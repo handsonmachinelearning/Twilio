{
 "cells": [
  {
   "cell_type": "code",
   "execution_count": 44,
   "metadata": {},
   "outputs": [],
   "source": [
    "import urllib\n",
    "import urllib.parse\n",
    "import urllib.request\n",
    "import json\n",
    "from requests.auth import HTTPBasicAuth"
   ]
  },
  {
   "cell_type": "code",
   "execution_count": 47,
   "metadata": {},
   "outputs": [],
   "source": [
    "def get_json(url):\n",
    "    #https://gist.github.com/kaito834/36e693a3a54057666d28\n",
    "    import urllib.request\n",
    "    import getpass\n",
    "\n",
    "    ACCOUNT_SID = \"\"\n",
    "    ACCOUNT_TOKEN = \"\"\n",
    "    \n",
    "    #auth_user=input('Username:')\n",
    "    #auth_passwd=getpass.getpass('Password:')\n",
    "    auth_user=ACCOUNT_SID\n",
    "    auth_passwd = ACCOUNT_TOKEN\n",
    "    \n",
    "    #build request\n",
    "    passman = urllib.request.HTTPPasswordMgrWithDefaultRealm()\n",
    "    passman.add_password(None, url, auth_user, auth_passwd)\n",
    "    authhandler = urllib.request.HTTPBasicAuthHandler(passman)\n",
    "    opener = urllib.request.build_opener(authhandler)\n",
    "    urllib.request.install_opener(opener)\n",
    "\n",
    "    res = urllib.request.urlopen(url)\n",
    "    res_body = res.read()\n",
    "    #print(res_body.decode('utf-8'))\n",
    "    \n",
    "    return json.loads(res_body.decode('utf-8'))\n",
    "\n",
    "    \n",
    "    "
   ]
  },
  {
   "cell_type": "code",
   "execution_count": 49,
   "metadata": {},
   "outputs": [],
   "source": [
    "jobj = get_json(\"https://studio.twilio.com/v1/Flows\")"
   ]
  },
  {
   "cell_type": "code",
   "execution_count": 54,
   "metadata": {},
   "outputs": [
    {
     "name": "stdout",
     "output_type": "stream",
     "text": [
      "Demo_EHR_Flow\n"
     ]
    }
   ],
   "source": [
    "for item in jobj[\"flows\"]:\n",
    "    print(item['friendly_name'])"
   ]
  },
  {
   "cell_type": "code",
   "execution_count": null,
   "metadata": {},
   "outputs": [],
   "source": []
  }
 ],
 "metadata": {
  "kernelspec": {
   "display_name": "Python 3",
   "language": "python",
   "name": "python3"
  },
  "language_info": {
   "codemirror_mode": {
    "name": "ipython",
    "version": 3
   },
   "file_extension": ".py",
   "mimetype": "text/x-python",
   "name": "python",
   "nbconvert_exporter": "python",
   "pygments_lexer": "ipython3",
   "version": "3.6.2"
  }
 },
 "nbformat": 4,
 "nbformat_minor": 2
}
